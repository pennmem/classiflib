{
 "cells": [
  {
   "cell_type": "code",
   "execution_count": 1,
   "metadata": {},
   "outputs": [],
   "source": [
    "import numpy as np"
   ]
  },
  {
   "cell_type": "code",
   "execution_count": 2,
   "metadata": {},
   "outputs": [
    {
     "name": "stderr",
     "output_type": "stream",
     "text": [
      "/Users/depalati/miniconda3/envs/classiflib/lib/python3.6/site-packages/h5py/__init__.py:36: FutureWarning: Conversion of the second argument of issubdtype from `float` to `np.floating` is deprecated. In future, it will be treated as `np.float64 == np.dtype(float).type`.\n",
      "  from ._conv import register_converters as _register_converters\n"
     ]
    }
   ],
   "source": [
    "from classiflib.dtypes import OdinEmbeddedChannel, OdinEmbeddedClassifier\n",
    "from classiflib.container import OdinEmbeddedClassifierContainer"
   ]
  },
  {
   "cell_type": "code",
   "execution_count": 3,
   "metadata": {},
   "outputs": [],
   "source": [
    "subject = 'R1378T'"
   ]
  },
  {
   "cell_type": "code",
   "execution_count": 4,
   "metadata": {},
   "outputs": [],
   "source": [
    "sense_labels = (\n",
    "    \"LB1LB2\",\n",
    "    \"LB2LB3\",\n",
    "    \"LB3LB4\",\n",
    "    \"LB4LB5\",\n",
    "    \"LB5LB6\",\n",
    "    \"LB6LB7\",\n",
    "    \"LB7LB8\",\n",
    "    \"LB8LB9\",\n",
    "    \"LB9LB10\",\n",
    "    \"LB10LB11\",\n",
    "    \"LB11LB12\",\n",
    "    \"LB12LB1\",\n",
    "    \"LT1LT2\",\n",
    "    \"LT2LT3\",\n",
    "    \"LT3LT4\",\n",
    "    \"LT4LT5\",\n",
    "    \"LT5LT6\",\n",
    "    \"LT6LT7\",\n",
    "    \"LT7LT8\",\n",
    "    \"LT8LT9\",\n",
    "    \"LT9LT10\",\n",
    "    \"LT10LT1\",\n",
    "    \"LC1LC2\",\n",
    "    \"LC2LC3\",\n",
    "    \"LC3LC4\",\n",
    "    \"LC4LC5\",\n",
    "    \"LC5LC6\",\n",
    "    \"LC6LC7\",\n",
    "    \"LC7LC8\",\n",
    "    \"LC8LC9\",\n",
    "    \"LC9LC10\",\n",
    "    \"LC10LC1\",\n",
    ")"
   ]
  },
  {
   "cell_type": "code",
   "execution_count": 5,
   "metadata": {},
   "outputs": [],
   "source": [
    "channels = [\n",
    "    OdinEmbeddedChannel(subject=subject.encode(),\n",
    "                        label=label.encode(),\n",
    "                        means=np.zeros(8, dtype=np.short),\n",
    "                        sigmas=(np.zeros(8, dtype=np.short) + 1000))\n",
    "    for label in sense_labels\n",
    "]"
   ]
  },
  {
   "cell_type": "code",
   "execution_count": 6,
   "metadata": {},
   "outputs": [],
   "source": [
    "stim_labels = ['LC8_LC9']  # , 'LF7_LF8']\n",
    "\n",
    "classifiers = [\n",
    "    OdinEmbeddedClassifier(subject=subject.encode(),\n",
    "                           averaging_interval=1000,\n",
    "                           refractory_period=1000,\n",
    "                           threshold=65000,\n",
    "                           stim_duration=500,\n",
    "                           waveform_name='{}_wfm'.format(label).encode(),\n",
    "                           stim_channel_name=label.encode(),\n",
    "                           weights=np.random.uniform(0, 1, (len(channels), 8)))\n",
    "    for label in stim_labels\n",
    "]"
   ]
  },
  {
   "cell_type": "code",
   "execution_count": 7,
   "metadata": {},
   "outputs": [],
   "source": [
    "cc = OdinEmbeddedClassifierContainer(channels, classifiers)"
   ]
  },
  {
   "cell_type": "code",
   "execution_count": 8,
   "metadata": {},
   "outputs": [],
   "source": [
    "cc.save('R1378T-embedded-classifier.zip', overwrite=True)"
   ]
  },
  {
   "cell_type": "code",
   "execution_count": null,
   "metadata": {},
   "outputs": [],
   "source": []
  }
 ],
 "metadata": {
  "kernelspec": {
   "display_name": "Python [conda env:classiflib]",
   "language": "python",
   "name": "conda-env-classiflib-py"
  },
  "language_info": {
   "codemirror_mode": {
    "name": "ipython",
    "version": 3
   },
   "file_extension": ".py",
   "mimetype": "text/x-python",
   "name": "python",
   "nbconvert_exporter": "python",
   "pygments_lexer": "ipython3",
   "version": "3.6.4"
  }
 },
 "nbformat": 4,
 "nbformat_minor": 2
}
